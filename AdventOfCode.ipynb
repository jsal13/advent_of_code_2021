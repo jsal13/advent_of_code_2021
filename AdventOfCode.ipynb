{
 "cells": [
  {
   "cell_type": "markdown",
   "id": "64661e02-db4b-4e38-90e7-838110ef11d6",
   "metadata": {},
   "source": [
    "# Advent of Code\n",
    "\n",
    "The docstrings are pretty bad."
   ]
  },
  {
   "cell_type": "code",
   "execution_count": 73,
   "id": "238a0511-3fd3-48fc-a60b-e1fc4e2ff3a2",
   "metadata": {},
   "outputs": [],
   "source": [
    "import os\n",
    "import re\n",
    "import math\n",
    "from datetime import datetime\n",
    "from typing import List, Tuple, Optional, Any, Callable\n",
    "import textwrap\n",
    "\n",
    "from pydantic.dataclasses import dataclass, Field\n",
    "import requests as req\n",
    "import pandas as pd\n",
    "import numpy as np\n",
    "import numpy.ma as ma"
   ]
  },
  {
   "cell_type": "markdown",
   "id": "a06eb4b9-6961-4a41-a6b6-de0bd20c2203",
   "metadata": {},
   "source": [
    "## Helper Functions"
   ]
  },
  {
   "cell_type": "code",
   "execution_count": 74,
   "id": "4f032a9d-698f-4bd2-9f2a-f7c569e2793a",
   "metadata": {
    "jupyter": {
     "source_hidden": true
    },
    "tags": []
   },
   "outputs": [],
   "source": [
    "def print_solutions(a1sol, a2sol):\n",
    "    print(textwrap.dedent(f\"\"\"\n",
    "        a1_solution: {a1sol}\n",
    "        a2_solution: {a2sol}\n",
    "    \"\"\"))"
   ]
  },
  {
   "cell_type": "markdown",
   "id": "0fbfa265-5b2f-4a1a-9df8-83346ef8ba6c",
   "metadata": {
    "jupyter": {
     "source_hidden": true
    },
    "tags": []
   },
   "source": [
    "---\n",
    "## Advent Day 1"
   ]
  },
  {
   "cell_type": "code",
   "execution_count": 3,
   "id": "3de2ec68-935c-4ad8-9f7f-f6ab72e16c95",
   "metadata": {
    "collapsed": true,
    "jupyter": {
     "outputs_hidden": true,
     "source_hidden": true
    },
    "tags": []
   },
   "outputs": [
    {
     "name": "stdout",
     "output_type": "stream",
     "text": [
      "\n",
      "a1_solution: 1696\n",
      "a2_solution: 1737\n",
      "\n"
     ]
    }
   ],
   "source": [
    "data_01 = np.genfromtxt('a01.csv', delimiter=',')\n",
    "\n",
    "def advent_01a(data: np.ndarray = data_01) -> int:\n",
    "    \"\"\"Gives a solution to https://adventofcode.com/2021/day/1, part 1.\"\"\"\n",
    "    return np.sum(np.diff(data) > 0)\n",
    "\n",
    "def advent_01b(data: np.ndarray = data_01) -> int:\n",
    "    \"\"\"Gives a solution to https://adventofcode.com/2021/day/1, part 2.\"\"\"\n",
    "    lag_array = np.array([\n",
    "        [data[idx], data[idx + 1], data[idx + 2]] \n",
    "        for idx in range(len(data) - 2)\n",
    "    ])\n",
    "    lag_array_sum_across = np.sum(lag_array, axis=1)\n",
    "    return np.sum(np.diff(lag_array_sum_across) > 0)\n",
    "\n",
    "print_solutions(advent_01a(), advent_01b())"
   ]
  },
  {
   "cell_type": "markdown",
   "id": "32a07028-f893-4e08-be57-a1cd57234a30",
   "metadata": {},
   "source": [
    "---\n",
    "## Advent Day 2"
   ]
  },
  {
   "cell_type": "code",
   "execution_count": 4,
   "id": "e87a5a6a-452a-450a-b714-4026f4a7a141",
   "metadata": {
    "collapsed": true,
    "jupyter": {
     "outputs_hidden": true,
     "source_hidden": true
    },
    "tags": []
   },
   "outputs": [
    {
     "name": "stdout",
     "output_type": "stream",
     "text": [
      "\n",
      "a1_solution: 2117664\n",
      "a2_solution: 2073416724\n",
      "\n"
     ]
    }
   ],
   "source": [
    "@dataclass\n",
    "class XYCoord:\n",
    "    \"\"\"XYCoordinate with addition and scalar multiplication.\"\"\"\n",
    "    x: int\n",
    "    y: int\n",
    "    \n",
    "    def __add__(self, coord):\n",
    "        return XYCoord(self.x + coord.x, self.y + coord.y)\n",
    "\n",
    "    def __mul__(self, other: int):\n",
    "        return XYCoord(self.x * other, self.y * other)\n",
    "    \n",
    "    def __rmul__(self, other: int):\n",
    "        return self.__mul__(other)\n",
    "    \n",
    "    \n",
    "direction_map = {\n",
    "    \"forward\": XYCoord(1, 0),\n",
    "    \"down\": XYCoord(0, 1),\n",
    "    \"up\": XYCoord(0, -1)\n",
    "}\n",
    "\n",
    "def parse_directions_part_1(data: List[str]) -> XYCoord:\n",
    "    \"\"\"Parses directions a la https://adventofcode.com/2021/day/2 .\"\"\"\n",
    "    current_loc = XYCoord(0, 0)\n",
    "    aim = 0\n",
    "    \n",
    "    # Split the direction \"forward 5\", map \"forward\" to XYCoord, mult by int(\"5\"),\n",
    "    # and add to current loc.\n",
    "    for row in data:\n",
    "        direction, amount = row.split(\" \")\n",
    "        amount = int(amount)\n",
    "        current_loc += amount * direction_map[direction]\n",
    "\n",
    "    return current_loc    \n",
    "\n",
    "def parse_directions_part_2(data: List[str]) -> XYCoord:\n",
    "    \"\"\"Parses directions a la https://adventofcode.com/2021/day/2 .\"\"\"\n",
    "    current_loc = XYCoord(0, 0)\n",
    "    aim = 0\n",
    "    \n",
    "    # Split the direction \"forward 5\", map \"forward\" to XYCoord, mult by int(\"5\"),\n",
    "    # and add to current loc.\n",
    "    for row in data:\n",
    "        direction, amount = row.split(\" \")\n",
    "        amount = int(amount)        \n",
    "                \n",
    "        if direction == \"down\":\n",
    "            aim += amount\n",
    "        elif direction == \"up\":\n",
    "            aim -= amount\n",
    "        elif direction == \"forward\":\n",
    "            current_loc += XYCoord(amount, amount * aim)\n",
    "\n",
    "    return current_loc\n",
    "        \n",
    "    \n",
    "# MAIN\n",
    "with open(\"a02.csv\", \"r\") as f:\n",
    "    data = [line.strip() for line in f.readlines() if line]\n",
    "\n",
    "def advent_02a(data: List[str] = data) -> int:\n",
    "    \"\"\"Solves Advent 2a.\"\"\"\n",
    "    dirs = parse_directions_part_1(data)\n",
    "    return dirs.x * dirs.y\n",
    "\n",
    "def advent_02b(data: List[str] = data) -> int:\n",
    "    \"\"\"Solves Advent 2b.\"\"\"\n",
    "    dirs = parse_directions_part_2(data)\n",
    "    return dirs.x * dirs.y\n",
    "\n",
    "print_solutions(advent_02a(), advent_02b())"
   ]
  },
  {
   "cell_type": "markdown",
   "id": "6d8554bf-97f7-4499-9bc6-a3538626280c",
   "metadata": {},
   "source": [
    "---\n",
    "## Advent Day 3"
   ]
  },
  {
   "cell_type": "code",
   "execution_count": 77,
   "id": "710737c0-eecf-4a39-9c4b-5f9c8e3d00a0",
   "metadata": {
    "collapsed": true,
    "jupyter": {
     "outputs_hidden": true,
     "source_hidden": true
    },
    "tags": []
   },
   "outputs": [
    {
     "name": "stdout",
     "output_type": "stream",
     "text": [
      "\n",
      "a1_solution: 3912944\n",
      "a2_solution: 4996233\n",
      "\n"
     ]
    }
   ],
   "source": [
    "with open(\"a03.csv\", \"r\") as f:\n",
    "    # Open file, create matrix of rows / cols.\n",
    "    data_03 = [line.strip() for line in f.readlines()]\n",
    "    \n",
    "def binary_string_list_to_2D_array(data: List[str]) -> np.ndarray:\n",
    "    \"\"\" Transforms a list of same-sized binary digits into a matrix with\n",
    "    each value as a row. \"\"\"\n",
    "    return np.array([list(map(int, list(row))) for row in data])\n",
    "\n",
    "def a03a(data: List[str]) -> int:\n",
    "    \"\"\"Solves https://adventofcode.com/2021/day/3.\"\"\"\n",
    "    data = binary_string_list_to_2D_array(data)\n",
    "    binary_string_length = len(data[0])\n",
    "    \n",
    "    def mode_is_one(row: np.array) -> str:\n",
    "        \"\"\"Returns True if 1 is more frequent or THE SAME FREQUENCY as 0.\"\"\"\n",
    "        return sum(row) >= len(row) / 2\n",
    "    \n",
    "    def int_from_bin_list(s: List[int]) -> int:\n",
    "        \"\"\"Returns the int value of a list of binary values.\"\"\"\n",
    "        return int(\"\".join(map(str, s)), base=2)\n",
    "        \n",
    "    gamma_rate = int_from_bin_list(\n",
    "        [1 if mode_is_one(data[:, idx]) else 0 for idx in range(len(data[0]))]\n",
    "    )\n",
    "    \n",
    "    epsilon_rate = int_from_bin_list(\n",
    "        [\"0\" if mode_is_one(data[:, idx]) else \"1\" for idx in range(len(data[0]))]\n",
    "    )\n",
    "\n",
    "    return gamma_rate * epsilon_rate\n",
    "\n",
    "\n",
    "class A03b:\n",
    "    def __init__(self, data: List[str]):\n",
    "        \"\"\"Solves https://adventofcode.com/2021/day/3.\"\"\"\n",
    "        self.data = binary_string_list_to_2D_array(data)\n",
    "        self.oxygen_generator_rating = self.data.copy()\n",
    "        self.co2_scrubber_rating = self.data.copy()\n",
    "        \n",
    "        # Main\n",
    "        self.oxy = self.find_rating(self.oxygen_generator_rating, self.oxy_mode_return)\n",
    "        self.co2 = self.find_rating(self.co2_scrubber_rating, self.co2_mode_return)\n",
    "\n",
    "    @staticmethod\n",
    "    def binary_string_list_to_2D_array(data: List[str]) -> np.ndarray:\n",
    "        \"\"\" Transforms a list of same-sized binary digits into a matrix with\n",
    "        each value as a row. \"\"\"\n",
    "        return np.array([list(map(int, list(row))) for row in data])\n",
    "        \n",
    "    def int_from_bin_list(self, s: List[int]) -> int:\n",
    "        \"\"\"Returns the int value of a list of binary values.\"\"\"\n",
    "        return int(\"\".join(map(str, s)), base=2)\n",
    "    \n",
    "    # NOTE: This part is gross.  I should have done something like calculate \n",
    "    # s >= data_size / 2 then made oxy / co2 return based on that value...\n",
    "    def oxy_mode_return(self, s: int, data_size: int) -> bool:\n",
    "        return 1 if s >= data_size / 2 else 0\n",
    "    \n",
    "    def co2_mode_return(self, s: int, data_size: int) -> bool:\n",
    "        return 0 if s >= data_size / 2 else 1\n",
    "    \n",
    "    def find_rating(self, data: np.ndarray, mode_return: Callable) -> np.ndarray:\n",
    "        rating = data.copy()\n",
    "        for idx in range(len(rating[:, 0])):\n",
    "            if len(rating) == 1:\n",
    "                break\n",
    "            s = sum(rating[:, idx])\n",
    "            desired_bit = mode_return(s, len(rating[:, 0]))\n",
    "            rating = np.array([row for row in rating if row[idx] == desired_bit])\n",
    "        return self.int_from_bin_list(rating[0])\n",
    "\n",
    "a03b = A03b(data_03)\n",
    "print_solutions(a03a(data_03), a03b.oxy * a03b.co2)"
   ]
  },
  {
   "cell_type": "markdown",
   "id": "d7fa14a3-f4ca-4cd1-a36a-196022e858b8",
   "metadata": {},
   "source": [
    "---\n",
    "## Advent Day 4"
   ]
  },
  {
   "cell_type": "code",
   "execution_count": 83,
   "id": "d73faea8-6eb8-4a55-a6a5-1687d4ef3948",
   "metadata": {
    "jupyter": {
     "source_hidden": true
    },
    "tags": []
   },
   "outputs": [],
   "source": [
    "class Board:\n",
    "    def __init__(self, board: np.ndarray):\n",
    "        self.board = board.copy()\n",
    "        self.called = np.zeros_like(self.board)\n",
    "        self.size: int = self.board.shape[0]  # Square\n",
    "        \n",
    "    def mark_board(self, lookup_num: int) -> None:\n",
    "        for row in range(self.size):\n",
    "            for col in range(self.size):\n",
    "                if self.board[row, col] == lookup_num:\n",
    "                    self.called[row, col] = 1\n",
    "    \n",
    "    def check_card(self) -> bool:\n",
    "        for idx in range(self.size):\n",
    "            if ((sum(self.called[idx, :]) == 5) or\n",
    "                (sum(self.called[:, idx]) == 5)):\n",
    "                return True\n",
    "        return False\n",
    "        \n",
    "    def reset_card(self):\n",
    "        self.called = np.zeros_like(self.board)"
   ]
  },
  {
   "cell_type": "code",
   "execution_count": 84,
   "id": "97c655da-33e6-48d5-a183-514e1e376f9b",
   "metadata": {
    "collapsed": true,
    "jupyter": {
     "outputs_hidden": true,
     "source_hidden": true
    },
    "tags": []
   },
   "outputs": [
    {
     "name": "stdout",
     "output_type": "stream",
     "text": [
      "\n",
      "a1_solution: 38913\n",
      "a2_solution: 16836\n",
      "\n"
     ]
    }
   ],
   "source": [
    "def initialize() -> Tuple[Board, np.ndarray]:\n",
    "    with open(\"a04_boards.csv\", \"r\") as boards_f:\n",
    "        boards_txt = boards_f.read()\n",
    "\n",
    "    boards_raw = [board.split(\"\\n\") for board in boards_txt.split(\"\\n\\n\")]\n",
    "    boards_raw_parsed = []\n",
    "    for board in boards_raw:\n",
    "        board_parsed = []\n",
    "        for row in board:\n",
    "            board_parsed.append([int(i) for i in row.split(\" \") if i])\n",
    "        boards_raw_parsed.append(board_parsed)\n",
    "    boards_raw_parsed = np.array(boards_raw_parsed)\n",
    "\n",
    "    with open(\"a04_calls.csv\", \"r\") as calls_f:\n",
    "        calls = np.genfromtxt(calls_f, delimiter=\",\", encoding=\"utf-8\")\n",
    "\n",
    "    boards = []\n",
    "    for board in boards_raw_parsed:\n",
    "        boards.append(Board(board))\n",
    "\n",
    "    return boards, calls\n",
    "\n",
    "def play_bingo() -> int:\n",
    "    boards, calls = initialize()\n",
    "        \n",
    "    def calculate_winning_score(board: Board, call: int):\n",
    "        mx = ma.masked_array(board.board, mask=board.called)\n",
    "        return int(call * mx.sum())\n",
    "        \n",
    "    for call in calls:\n",
    "        for board in boards:\n",
    "            board.mark_board(call)\n",
    "            if board.check_card():\n",
    "                return calculate_winning_score(board, call)\n",
    "            \n",
    "def lose_at_bingo() -> int:\n",
    "    boards, calls = initialize()\n",
    "    non_winning_boards = boards.copy()\n",
    "    \n",
    "    def calculate_winning_score(board: Board, call: int):\n",
    "        mx = ma.masked_array(board.board, mask=board.called)\n",
    "        return int(call * mx.sum())\n",
    "        \n",
    "    winning_board = None\n",
    "    for call in calls:\n",
    "        for board in non_winning_boards:\n",
    "            board.mark_board(call)\n",
    "\n",
    "        non_winning_boards = [board for board in boards if not board.check_card()]\n",
    "        if len(non_winning_boards) == 1:\n",
    "            winning_board = non_winning_boards[0]\n",
    "        \n",
    "        if len(non_winning_boards) == 0:\n",
    "            # The last board won!\n",
    "            return calculate_winning_score(winning_board, call)\n",
    "\n",
    "print_solutions(play_bingo(), lose_at_bingo())"
   ]
  },
  {
   "cell_type": "markdown",
   "id": "44ae9769-fcc2-4179-ad77-8a8af12da81e",
   "metadata": {
    "tags": []
   },
   "source": [
    "---\n",
    "## Advent Day 5"
   ]
  },
  {
   "cell_type": "code",
   "execution_count": 111,
   "id": "482cc8c9-05a2-4a8c-aed8-e7a84c113676",
   "metadata": {
    "jupyter": {
     "source_hidden": true
    },
    "tags": []
   },
   "outputs": [],
   "source": [
    "class Chart:\n",
    "    \n",
    "    def __init__(self, chart_size: List[int]):\n",
    "\n",
    "        self.chart_size = chart_size\n",
    "        self.chart = np.zeros(shape=self.chart_size)\n",
    "\n",
    "    def plot(self, coord):\n",
    "        \"\"\"Adds one to the location on the chart.\"\"\"\n",
    "        self.chart[coord[1], coord[0]] += 1\n",
    "        \n",
    "class LineSegment:\n",
    "    def __init__(self, x1: int, y1: int, x2: int, y2: int, include_diagonal: bool = False):\n",
    "        self.include_diagonal = include_diagonal\n",
    "        self.coord = (x1, y1, x2, y2)\n",
    "        self.x1 = x1\n",
    "        self.y1 = y1\n",
    "        self.x2 = x2\n",
    "        self.y2 = y2\n",
    "        self.integer_coords: np.ndarray = None\n",
    "        \n",
    "        self.slope = self._compute_slope()\n",
    "        self.y_intercept = self._compute_y_intercept()\n",
    "        \n",
    "        self._compute_coords_on_segment()\n",
    "        \n",
    "    def _compute_slope(self):\n",
    "        if self.x1 == self.x2:\n",
    "            return None\n",
    "        return (self.y1 - self.y2) / (self.x1 - self.x2) \n",
    " \n",
    "        \n",
    "    def _compute_y_intercept(self):\n",
    "        if self._compute_slope() == None:\n",
    "            return None\n",
    "        return self.y1 - self.slope * self.x1\n",
    "    \n",
    "    def _compute_coords_on_segment(self):\n",
    "        \"\"\"Computes coords with integer values on the line segments.\"\"\"\n",
    "        min_y = min(self.y1, self.y2)\n",
    "        max_y = max(self.y1, self.y2)\n",
    "        min_x = min(self.x1, self.x2)\n",
    "        max_x = max(self.x1, self.x2)\n",
    "        \n",
    "        tmp_integer_coords = []\n",
    "        \n",
    "        # Line is vertical...\n",
    "        if self.y_intercept is None:\n",
    "            for _y in range(min_y, max_y + 1):\n",
    "                tmp_integer_coords.append([self.x1, _y])\n",
    "            \n",
    "        # Line is horizontal...\n",
    "        elif self.slope == 0:\n",
    "            for _x in range(min_x, max_x + 1):\n",
    "                tmp_integer_coords.append([_x, self.y1])\n",
    "        \n",
    "        # line is diagonal...\n",
    "        else:\n",
    "            if self.include_diagonal:\n",
    "                for _x in range(min_x, max_x + 1):\n",
    "                    val = self.slope * _x + self.y_intercept\n",
    "                    try:\n",
    "                        tmp_integer_coords.append([_x, int(val)])\n",
    "                    except:\n",
    "                        print(f\"{val} isn't an integer!\")\n",
    "        \n",
    "        self.integer_coords = np.array(tmp_integer_coords)\n",
    "\n",
    "    def plot_integer_coords_on_chart(self, chart: Chart):\n",
    "        for coord in self.integer_coords:\n",
    "            chart.plot(coord)\n",
    "            "
   ]
  },
  {
   "cell_type": "code",
   "execution_count": 113,
   "id": "20bcd7b1-086f-497c-bb01-59c884c5784d",
   "metadata": {
    "collapsed": true,
    "jupyter": {
     "outputs_hidden": true,
     "source_hidden": true
    },
    "tags": []
   },
   "outputs": [
    {
     "name": "stdout",
     "output_type": "stream",
     "text": [
      "\n",
      "a1_solution: 6005\n",
      "a2_solution: 23864\n",
      "\n"
     ]
    }
   ],
   "source": [
    "def input_parser(data: str) -> List[int]:\n",
    "    \"\"\" Parses input data. \"\"\"\n",
    "    coord_list = []\n",
    "    for row in data.split(\"\\n\"):\n",
    "        row_split = row.split(\" -> \")\n",
    "        coords = row_split[0].split(\",\") + row_split[1].split(\",\")\n",
    "        coords = list(map(int, coords))\n",
    "        coord_list.append(coords)\n",
    "    return coord_list\n",
    "\n",
    "def get_chart_size(coords: List[int]) -> Tuple[int]:\n",
    "    \"\"\" Helper function to size the chart appropriately. \"\"\"\n",
    "    coords = np.array(coords)\n",
    "    # min_x = coords[:, [0, 2]].min()\n",
    "    max_x = coords[:, [0, 2]].max() + 1\n",
    "    # min_y = coords[:, [1, 3]].min()\n",
    "    max_y = coords[:, [1, 3]].max() + 1\n",
    "    return (max_x, max_y)\n",
    "\n",
    "def aoc05(include_diagonal: bool = False):\n",
    "    \"\"\" Solves AoC 5.  For a, include_diagonal=False.  For b, it is true. \"\"\"\n",
    "    with open(\"a05.txt\", \"r\") as f:\n",
    "        data = f.read()\n",
    "\n",
    "    coords = input_parser(data)\n",
    "    chart_size = get_chart_size(coords)\n",
    "    \n",
    "    ls = [LineSegment(*coord, include_diagonal=include_diagonal) for coord in coords]\n",
    "    ch = Chart(chart_size)\n",
    "\n",
    "    for lineseg in ls:\n",
    "        lineseg.plot_integer_coords_on_chart(ch)\n",
    "\n",
    "    return (ch.chart >= 2).sum()\n",
    "\n",
    "print_solutions(aoc05(), aoc05(True))"
   ]
  },
  {
   "cell_type": "markdown",
   "id": "2b229a1b-049a-4189-81a9-7e0d0fca8d3e",
   "metadata": {},
   "source": [
    "---\n",
    "## Advent Day 6"
   ]
  },
  {
   "cell_type": "code",
   "execution_count": 85,
   "id": "b17244c9-6417-41f3-81be-8bf231426b5d",
   "metadata": {
    "collapsed": true,
    "jupyter": {
     "outputs_hidden": true,
     "source_hidden": true
    },
    "tags": []
   },
   "outputs": [
    {
     "name": "stdout",
     "output_type": "stream",
     "text": [
      "\n",
      "a1_solution: 390011\n",
      "a2_solution: 1746710169834\n",
      "\n"
     ]
    }
   ],
   "source": [
    "class School:\n",
    "    \"\"\" Initial attempt at AoC Day 6.  Brute Force.  Doesn't work for\n",
    "    part 2! \"\"\"\n",
    "    def __init__(self, timers: List[int]):\n",
    "        self.timers = np.array(timers)\n",
    "        \n",
    "    def pass_day(self):\n",
    "        self.timers -= 1\n",
    "        moms_mask = self.timers == -1\n",
    "        new_moms = moms_mask.sum()\n",
    "        self.timers = self.timers[~moms_mask]\n",
    "        self.timers = np.append(self.timers, [8, 6] * new_moms)\n",
    "\n",
    "def parse_input(data: str) -> List[int]:\n",
    "    return list(map(int, data.split(\",\")))\n",
    "\n",
    "def aoc06_a() -> int:\n",
    "    with open(\"a06.csv\", \"r\") as f:\n",
    "        data = f.read()\n",
    "\n",
    "    timers = parse_input(data)\n",
    "    school = School(timers)\n",
    "\n",
    "    days = 80\n",
    "    ls = []\n",
    "    for idx in range(days):\n",
    "        ls.append(len(school.timers))\n",
    "        school.pass_day()\n",
    "    \n",
    "    return len(school.timers)\n",
    "\n",
    "def aoc06_b() -> int:\n",
    "    with open(\"a06.csv\", \"r\") as f:\n",
    "        data = f.read()\n",
    "\n",
    "    timers = parse_input(data)\n",
    "    binned_data = np.bincount(timers, minlength=9)\n",
    "\n",
    "    def iterate(data: np.ndarray):\n",
    "        new_data = np.roll(data, shift=-1)\n",
    "        new_data[6] += data[0]\n",
    "        return new_data\n",
    "\n",
    "    for _ in range(256):\n",
    "        binned_data = iterate(binned_data)\n",
    "\n",
    "    return binned_data.sum()\n",
    "    \n",
    "print_solutions(aoc06_a(), aoc06_b())"
   ]
  },
  {
   "cell_type": "code",
   "execution_count": null,
   "id": "3a001a06-046c-4273-8887-ba6076606a27",
   "metadata": {},
   "outputs": [],
   "source": []
  },
  {
   "cell_type": "code",
   "execution_count": null,
   "id": "5701f354-c320-449b-adb5-8226d808576f",
   "metadata": {},
   "outputs": [],
   "source": []
  },
  {
   "cell_type": "code",
   "execution_count": null,
   "id": "45758e5b-944b-4deb-8dd7-2885ccff020a",
   "metadata": {},
   "outputs": [],
   "source": []
  },
  {
   "cell_type": "code",
   "execution_count": null,
   "id": "4a4e91fe-67ee-43d3-a9fe-4943fd98705f",
   "metadata": {},
   "outputs": [],
   "source": []
  },
  {
   "cell_type": "code",
   "execution_count": null,
   "id": "760cda72-98af-4082-b0c4-b85e7177e824",
   "metadata": {},
   "outputs": [],
   "source": []
  },
  {
   "cell_type": "code",
   "execution_count": null,
   "id": "1df15bd7-bd1f-47fe-9f22-84958f71b369",
   "metadata": {},
   "outputs": [],
   "source": []
  },
  {
   "cell_type": "code",
   "execution_count": null,
   "id": "5bc6a65f-4f8f-43c9-bb59-58c9bd1b1f2a",
   "metadata": {},
   "outputs": [],
   "source": []
  }
 ],
 "metadata": {
  "kernelspec": {
   "display_name": "Python 3 (ipykernel)",
   "language": "python",
   "name": "python3"
  },
  "language_info": {
   "codemirror_mode": {
    "name": "ipython",
    "version": 3
   },
   "file_extension": ".py",
   "mimetype": "text/x-python",
   "name": "python",
   "nbconvert_exporter": "python",
   "pygments_lexer": "ipython3",
   "version": "3.9.7"
  }
 },
 "nbformat": 4,
 "nbformat_minor": 5
}
